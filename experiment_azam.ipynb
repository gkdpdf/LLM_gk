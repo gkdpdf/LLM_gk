{
 "cells": [
  {
   "cell_type": "code",
   "execution_count": 24,
   "id": "869a36ed",
   "metadata": {},
   "outputs": [],
   "source": [
    "from pathlib import Path\n",
    "from langchain.agents import initialize_agent, Tool\n",
    "from langchain.sql_database import SQLDatabase\n",
    "from langchain.agents.agent_types import AgentType\n",
    "from langchain.agents.agent_toolkits import SQLDatabaseToolkit\n",
    "from sqlalchemy import create_engine\n",
    "import sqlite3\n",
    "from langchain_groq import ChatGroq\n",
    "from dotenv import load_dotenv\n",
    "from table_relationships import describe_table_relationships\n",
    "from tbl_col_info import table_info_and_examples\n",
    "import os\n",
    "import pandas as pd\n",
    "import re\n",
    "import requests"
   ]
  },
  {
   "cell_type": "code",
   "execution_count": 25,
   "id": "2a3b0697",
   "metadata": {},
   "outputs": [],
   "source": [
    "# Load .env file and get GROQ API key\n",
    "load_dotenv()\n",
    "api_key = os.getenv(\"GROQ_API_KEY\")"
   ]
  },
  {
   "cell_type": "code",
   "execution_count": 26,
   "id": "5eaf8231",
   "metadata": {},
   "outputs": [],
   "source": [
    "if not api_key:\n",
    "    print(\"GROQ_API_KEY not found in .env file.\")"
   ]
  },
  {
   "cell_type": "code",
   "execution_count": 27,
   "id": "7abc65cd",
   "metadata": {},
   "outputs": [],
   "source": [
    "# Setup the LLM\n",
    "llm = ChatGroq(groq_api_key=api_key, model_name=\"Llama3-8b-8192\", streaming=True)"
   ]
  },
  {
   "cell_type": "code",
   "execution_count": 28,
   "id": "2a17ac93",
   "metadata": {},
   "outputs": [
    {
     "name": "stdout",
     "output_type": "stream",
     "text": [
      "📄 Tables Loaded: ['order_items', 'orders', 'sub_d_order_items', 'sub_d_orders', 'tbl_distributor_details', 'tbl_price_margin', 'tbl_product_master', 'tbl_sales', 'tbl_scheme']\n"
     ]
    }
   ],
   "source": [
    "# Configure and return SQLite database connection\n",
    "def configure_db():\n",
    "    import glob\n",
    "    conn = sqlite3.connect(\":memory:\")\n",
    "    csv_folder = Path.cwd() / \"cooked_data_gk\"\n",
    "    for csv_file in glob.glob(str(csv_folder / \"*.csv\")):\n",
    "        table_name = Path(csv_file).stem.lower()\n",
    "        df = pd.read_csv(csv_file)\n",
    "        df.to_sql(table_name, conn, index=False, if_exists=\"replace\")\n",
    "    return SQLDatabase.from_uri(\"sqlite://\", engine_args={\"creator\": lambda: conn})\n",
    "\n",
    "# Connect to DB\n",
    "db = configure_db()\n",
    "print(\"📄 Tables Loaded:\", db.get_table_names())"
   ]
  },
  {
   "cell_type": "code",
   "execution_count": 31,
   "id": "774ff515-ab84-4601-96ef-5ec20aa321eb",
   "metadata": {},
   "outputs": [
    {
     "name": "stdout",
     "output_type": "stream",
     "text": [
      "sqlite\n",
      "['order_items', 'orders', 'sub_d_order_items', 'sub_d_orders', 'tbl_distributor_details', 'tbl_price_margin', 'tbl_product_master', 'tbl_sales', 'tbl_scheme']\n"
     ]
    }
   ],
   "source": [
    "print(db.dialect)\n",
    "print(db.get_usable_table_names())"
   ]
  },
  {
   "cell_type": "code",
   "execution_count": 21,
   "id": "82faf8d3",
   "metadata": {},
   "outputs": [],
   "source": [
    "# Tools\n",
    "relationship_tool = Tool(\n",
    "    name=\"TableRelationships\",\n",
    "    func=describe_table_relationships,\n",
    "    description=\"Use this tool to understand how tables are related before writing SQL queries.\"\n",
    ")\n",
    "info_example_tool = Tool(\n",
    "    name=\"TableInfoAndExamples\",\n",
    "    func=table_info_and_examples,\n",
    "    description=\"Use this tool to understand available tables and columns see example queries.\",\n",
    ")"
   ]
  },
  {
   "cell_type": "code",
   "execution_count": 22,
   "id": "78140a89",
   "metadata": {},
   "outputs": [],
   "source": [
    "toolkit = SQLDatabaseToolkit(db=db, llm=llm)\n",
    "tools = toolkit.get_tools() + [relationship_tool, info_example_tool]"
   ]
  },
  {
   "cell_type": "code",
   "execution_count": 23,
   "id": "05702187",
   "metadata": {},
   "outputs": [
    {
     "data": {
      "text/plain": [
       "[QuerySQLDatabaseTool(description=\"Input to this tool is a detailed and correct SQL query, output is a result from the database. If the query is not correct, an error message will be returned. If an error is returned, rewrite the query, check the query, and try again. If you encounter an issue with Unknown column 'xxxx' in 'field list', use sql_db_schema to query the correct table fields.\", db=<langchain_community.utilities.sql_database.SQLDatabase object at 0x000001FA8A025950>),\n",
       " InfoSQLDatabaseTool(description='Input to this tool is a comma-separated list of tables, output is the schema and sample rows for those tables. Be sure that the tables actually exist by calling sql_db_list_tables first! Example Input: table1, table2, table3', db=<langchain_community.utilities.sql_database.SQLDatabase object at 0x000001FA8A025950>),\n",
       " ListSQLDatabaseTool(db=<langchain_community.utilities.sql_database.SQLDatabase object at 0x000001FA8A025950>),\n",
       " QuerySQLCheckerTool(description='Use this tool to double check if your query is correct before executing it. Always use this tool before executing a query with sql_db_query!', db=<langchain_community.utilities.sql_database.SQLDatabase object at 0x000001FA8A025950>, llm=ChatGroq(client=<groq.resources.chat.completions.Completions object at 0x000001FA8A223590>, async_client=<groq.resources.chat.completions.AsyncCompletions object at 0x000001FA8A326210>, model_name='Llama3-8b-8192', model_kwargs={}, groq_api_key=SecretStr('**********'), streaming=True), llm_chain=LLMChain(verbose=False, prompt=PromptTemplate(input_variables=['dialect', 'query'], input_types={}, partial_variables={}, template='\\n{query}\\nDouble check the {dialect} query above for common mistakes, including:\\n- Using NOT IN with NULL values\\n- Using UNION when UNION ALL should have been used\\n- Using BETWEEN for exclusive ranges\\n- Data type mismatch in predicates\\n- Properly quoting identifiers\\n- Using the correct number of arguments for functions\\n- Casting to the correct data type\\n- Using the proper columns for joins\\n\\nIf there are any of the above mistakes, rewrite the query. If there are no mistakes, just reproduce the original query.\\n\\nOutput the final SQL query only.\\n\\nSQL Query: '), llm=ChatGroq(client=<groq.resources.chat.completions.Completions object at 0x000001FA8A223590>, async_client=<groq.resources.chat.completions.AsyncCompletions object at 0x000001FA8A326210>, model_name='Llama3-8b-8192', model_kwargs={}, groq_api_key=SecretStr('**********'), streaming=True), output_parser=StrOutputParser(), llm_kwargs={})),\n",
       " Tool(name='TableRelationships', description='Use this tool to understand how tables are related before writing SQL queries.', func=<function describe_table_relationships at 0x000001FAE8048540>),\n",
       " Tool(name='TableInfoAndExamples', description='Use this tool to understand available tables and columns see example queries.', func=<function table_info_and_examples at 0x000001FAE80485E0>)]"
      ]
     },
     "execution_count": 23,
     "metadata": {},
     "output_type": "execute_result"
    }
   ],
   "source": [
    "tools"
   ]
  },
  {
   "cell_type": "code",
   "execution_count": null,
   "id": "c7442c5d-4f00-46b8-9b0c-047867e95587",
   "metadata": {},
   "outputs": [],
   "source": []
  },
  {
   "cell_type": "code",
   "execution_count": 9,
   "id": "001d18e8",
   "metadata": {},
   "outputs": [
    {
     "name": "stderr",
     "output_type": "stream",
     "text": [
      "C:\\Users\\engma\\AppData\\Local\\Temp\\ipykernel_27048\\3545713887.py:1: LangChainDeprecationWarning: LangChain agents will continue to be supported, but it is recommended for new use cases to be built with LangGraph. LangGraph offers a more flexible and full-featured framework for building agents, including support for tool-calling, persistence of state, and human-in-the-loop workflows. For details, refer to the `LangGraph documentation <https://langchain-ai.github.io/langgraph/>`_ as well as guides for `Migrating from AgentExecutor <https://python.langchain.com/docs/how_to/migrate_agent/>`_ and LangGraph's `Pre-built ReAct agent <https://langchain-ai.github.io/langgraph/how-tos/create-react-agent/>`_.\n",
      "  agent = initialize_agent(\n"
     ]
    }
   ],
   "source": [
    "agent = initialize_agent(\n",
    "    tools=tools,\n",
    "    llm=llm,\n",
    "    agent_type=AgentType.OPENAI_FUNCTIONS,\n",
    "    verbose=True,\n",
    "    handle_parsing_errors=True,\n",
    "    agent_kwargs={\n",
    "        \"system_message\": \"\"\"\n",
    "You are an expert SQL assistant helping query a SQLite-based retail database which gives one line answer.\n",
    "\n",
    "✅ Instructions:\n",
    "1. If table info is missing, always use `TableInfoAndExamples` first and then check for \n",
    "'TableRelationships' for the relationships between tables.\n",
    "\n",
    "2. Use this response format:\n",
    "   - Action: <tool-name or Final Answer>\n",
    "   - Action Input: <input>\n",
    "3. Execute real SQL queries after table identification.\n",
    "4. Only show SELECT query results, not intermediate thoughts or tools.\n",
    "5. When asked about \"top discount schemes\", use:\n",
    "SELECT name, discount_percent FROM tbl_scheme WHERE is_active = 1 ORDER BY discount_percent DESC;\n",
    "\n",
    "6. When asked about MRP of the brands, check in the tbl_product_master\n",
    "7. When asked about products with have top discounts then use 'TableRelationships' for joining and fetch products.\n",
    "\"\"\"\n",
    "    }\n",
    ")"
   ]
  },
  {
   "cell_type": "code",
   "execution_count": 10,
   "id": "4213d047",
   "metadata": {},
   "outputs": [
    {
     "name": "stdin",
     "output_type": "stream",
     "text": [
      " mrp of crocin\n"
     ]
    }
   ],
   "source": [
    "# Chat input\n",
    "user_query = input()"
   ]
  },
  {
   "cell_type": "code",
   "execution_count": 11,
   "id": "5423c481",
   "metadata": {},
   "outputs": [
    {
     "name": "stderr",
     "output_type": "stream",
     "text": [
      "C:\\Users\\engma\\AppData\\Local\\Temp\\ipykernel_27048\\1665997697.py:1: LangChainDeprecationWarning: The method `Chain.run` was deprecated in langchain 0.1.0 and will be removed in 1.0. Use :meth:`~invoke` instead.\n",
      "  response = agent.run(user_query)\n"
     ]
    },
    {
     "name": "stdout",
     "output_type": "stream",
     "text": [
      "\n",
      "\n",
      "\u001b[1m> Entering new AgentExecutor chain...\u001b[0m\n",
      "\u001b[32;1m\u001b[1;3mI'm happy to help! However, I need more information to provide a meaningful answer. It seems like the question is asking for the molecular recipe of Crocin, which is a chemical compound. Since I'm a large language model, I don't have direct access to databases or chemical compounds. But I can try to help you find the information you're looking for.\n",
      "\n",
      "Action: sql_db_query\n",
      "Action Input: SELECT * FROM chemical_database WHERE chemical_name = 'Crocin'\u001b[0m\n",
      "Observation: \u001b[36;1m\u001b[1;3mError: (sqlite3.OperationalError) no such table: chemical_database\n",
      "[SQL: SELECT * FROM chemical_database WHERE chemical_name = 'Crocin']\n",
      "(Background on this error at: https://sqlalche.me/e/20/e3q8)\u001b[0m\n",
      "Thought:\u001b[32;1m\u001b[1;3mThought: It seems like the database table \"chemical_database\" doesn't exist. I'll try to list the available tables in the database first.\n",
      "\n",
      "Action: sql_db_list_tables\n",
      "Action Input: ''\u001b[0m\n",
      "Observation: \u001b[38;5;200m\u001b[1;3morder_items, orders, sub_d_order_items, sub_d_orders, tbl_distributor_details, tbl_price_margin, tbl_product_master, tbl_sales, tbl_scheme\u001b[0m\n",
      "Thought:\u001b[32;1m\u001b[1;3mThought: The database seems to have several tables, but \"chemical_database\" is not one of them. I'll try to list the tables again to confirm.\n",
      "\n",
      "Action: sql_db_list_tables\n",
      "Action Input: ''\u001b[0m\n",
      "Observation: \u001b[38;5;200m\u001b[1;3morder_items, orders, sub_d_order_items, sub_d_orders, tbl_distributor_details, tbl_price_margin, tbl_product_master, tbl_sales, tbl_scheme\u001b[0m\n",
      "Thought:\u001b[32;1m\u001b[1;3mThought: The database does not have a table named \"chemical_database\". I'll try to find another way to get the information I need.\n",
      "\n",
      "Action: TableInfoAndExamples\n",
      "Action Input: ''\u001b[0m\n",
      "Observation: \u001b[38;5;200m\u001b[1;3m\n",
      "📊 **DATABASE SCHEMA & EXAMPLES**\n",
      "\n",
      "━━━━━━━━━━━━━━━━━━━━━━━━━━━━━━━━━━━━━━━━━━━━━━━━━━━━\n",
      "\n",
      "## 🗃️ **TABLE STRUCTURE:**\n",
      "\n",
      "### 1. **tbl_scheme** (Discount Schemes)\n",
      "- `sku_id`: SKU linked to the scheme\n",
      "- `user_id`: Distributor who created the scheme  \n",
      "- `is_active`: Boolean flag (1 = active, 0 = inactive)\n",
      "- `discount_percent`: Percentage discount (FLOAT)\n",
      "- `name`: Scheme name\n",
      "\n",
      "### 2. **tbl_sales** (Sales Records)\n",
      "- `order_id`: ID of the order\n",
      "- `skunit_id`: SKU sold\n",
      "\n",
      "### 3. **orders** (Order Details)\n",
      "- `user_id`: Retailer ID who placed the order\n",
      "- `order_number`: Order identifier\n",
      "- `amount`: Order amount/value\n",
      "- `created_at`: Order creation datetime\n",
      "\n",
      "### 4. **order_items** (Order Line Items)\n",
      "- `product_id`: Product in the order\n",
      "- `order_id`: Related order ID\n",
      "\n",
      "### 5. **tbl_product_master** (Product Catalog)\n",
      "- `SKU_ID`: SKU code (Primary Key)\n",
      "- `product_id`: Product code\n",
      "- `Brand_Name`: Brand name\n",
      "- `MRP`: Maximum Retail Price\n",
      "\n",
      "### 6. **tbl_distributor_details** (Distributor Info)\n",
      "- `User_ID`: Distributor ID (Primary Key)\n",
      "- `Distributor_Code`: Distributor reference code\n",
      "\n",
      "### 7. **sub_d_orders** (Sub-Distributor Orders)\n",
      "- `distributor_id`: Sub-distributor placing the order\n",
      "- `order_id`: Order ID\n",
      "\n",
      "### 8. **sub_d_order_items** (Sub-Distributor Order Items)\n",
      "- `product_id`: Product ordered\n",
      "- `order_id`: Corresponding order ID\n",
      "\n",
      "━━━━━━━━━━━━━━━━━━━━━━━━━━━━━━━━━━━━━━━━━━━━━━━━━━━━\n",
      "\n",
      "## 📌 **COMMON SQL QUERIES:**\n",
      "\n",
      "### 🟢 **SCHEME QUERIES:**\n",
      "```sql\n",
      "-- Currently running schemes\n",
      "SELECT name FROM tbl_scheme WHERE is_active = 1;\n",
      "\n",
      "-- Top 5 schemes with highest discount\n",
      "SELECT name, discount_percent \n",
      "FROM tbl_scheme \n",
      "ORDER BY discount_percent DESC \n",
      "LIMIT 5;\n",
      "\n",
      "-- All schemes for a specific distributor\n",
      "SELECT name, discount_percent, is_active\n",
      "FROM tbl_scheme \n",
      "WHERE user_id = 'DISTRIBUTOR_ID';\n",
      "\n",
      "-- Count of active vs inactive schemes\n",
      "SELECT is_active, COUNT(*) as scheme_count\n",
      "FROM tbl_scheme \n",
      "GROUP BY is_active;\n",
      "```\n",
      "\n",
      "### 📦 **ORDER QUERIES:**\n",
      "```sql\n",
      "-- Last order\n",
      "SELECT order_number, amount \n",
      "FROM orders \n",
      "ORDER BY created_at DESC \n",
      "LIMIT 1;\n",
      "\n",
      "-- Last 3 orders\n",
      "SELECT order_number, amount, created_at\n",
      "FROM orders \n",
      "ORDER BY created_at DESC \n",
      "LIMIT 3;x\n",
      "\n",
      "-- Orders by a specific user\n",
      "SELECT order_number, amount, created_at\n",
      "FROM orders \n",
      "WHERE user_id = 'USER_ID'\n",
      "ORDER BY created_at DESC;\n",
      "\n",
      "-- Total orders count\n",
      "SELECT COUNT(DISTINCT order_number) as total_orders \n",
      "FROM orders;\n",
      "```\n",
      "\n",
      "### 💰 **PRICING QUERIES:**\n",
      "```sql\n",
      "-- CRITICAL: For product price queries, ALWAYS search by Brand_Name first!\n",
      "-- Step 1: Check if it exists as a brand name (case-insensitive)\n",
      "SELECT DISTINCT Brand_Name \n",
      "FROM tbl_product_master \n",
      "WHERE LOWER(Brand_Name) LIKE LOWER('%PRODUCT_NAME%');\n",
      "\n",
      "-- Step 2: If found as brand, show all SKUs and prices for that brand\n",
      "SELECT SKU_ID, MRP\n",
      "FROM tbl_product_master \n",
      "WHERE LOWER(Brand_Name) LIKE LOWER('%BRAND_NAME%');\n",
      "\n",
      "-- Step 3: If not found as brand, check if it's an SKU\n",
      "SELECT SKU_ID, MRP \n",
      "FROM tbl_product_master \n",
      "WHERE LOWER(SKU_ID) LIKE LOWER('%SKU_CODE%');\n",
      "\n",
      "-- Step 4: If nothing found, show all available brands for user guidance\n",
      "SELECT DISTINCT Brand_Name \n",
      "FROM tbl_product_master \n",
      "ORDER BY Brand_Name;\n",
      "\n",
      "-- Examples:\n",
      "-- User asks \"price of crocin\" -> search Brand_Name like '%crocin%' first\n",
      "-- User asks \"price of paracetamol\" -> search Brand_Name like '%paracetamol%' first\n",
      "\n",
      "-- Price range for a brand\n",
      "SELECT Brand_Name, MIN(MRP) as min_price, MAX(MRP) as max_price\n",
      "FROM tbl_product_master \n",
      "WHERE LOWER(Brand_Name) LIKE LOWER('%BRAND_NAME%')\n",
      "GROUP BY Brand_Name;\n",
      "\n",
      "-- All products with prices\n",
      "SELECT SKU_ID, Brand_Name, MRP\n",
      "FROM tbl_product_master \n",
      "ORDER BY MRP DESC;\n",
      "```\n",
      "\n",
      "### 🏷️ **SKU & BRAND QUERIES:**\n",
      "```sql\n",
      "-- All SKUs for a specific brand\n",
      "SELECT SKU_ID, MRP\n",
      "FROM tbl_product_master \n",
      "WHERE Brand_Name = 'BRAND_NAME';\n",
      "\n",
      "-- All available brands\n",
      "SELECT DISTINCT Brand_Name \n",
      "FROM tbl_product_master \n",
      "ORDER BY Brand_Name;\n",
      "\n",
      "-- SKU count per brand\n",
      "SELECT Brand_Name, COUNT(*) as sku_count\n",
      "FROM tbl_product_master \n",
      "GROUP BY Brand_Name\n",
      "ORDER BY sku_count DESC;\n",
      "\n",
      "-- Check if brand exists\n",
      "SELECT COUNT(*) \n",
      "FROM tbl_product_master \n",
      "WHERE Brand_Name = 'BRAND_NAME';\n",
      "```\n",
      "\n",
      "### 📊 **SALES ANALYSIS:**\n",
      "```sql\n",
      "-- Product-wise sales count\n",
      "SELECT p.SKU_ID, p.Brand_Name, COUNT(*) as sales_count\n",
      "FROM tbl_sales s\n",
      "JOIN tbl_product_master p ON s.skunit_id = p.SKU_ID\n",
      "GROUP BY p.SKU_ID, p.Brand_Name\n",
      "ORDER BY sales_count DESC;\n",
      "\n",
      "-- Sales by brand\n",
      "SELECT p.Brand_Name, COUNT(*) as total_sales\n",
      "FROM tbl_sales s\n",
      "JOIN tbl_product_master p ON s.skunit_id = p.SKU_ID\n",
      "GROUP BY p.Brand_Name\n",
      "ORDER BY total_sales DESC;\n",
      "```\n",
      "\n",
      "━━━━━━━━━━━━━━━━━━━━━━━━━━━━━━━━━━━━━━━━━━━━━━━━━━━━\n",
      "\n",
      "## ⚠️ **IMPORTANT NOTES:**\n",
      "\n",
      "1. **CRITICAL FOR PRICE QUERIES**: When user asks \"price of X\", ALWAYS search Brand_Name first using LIKE with wildcards\n",
      "2. **Search Pattern**: Use `LOWER(Brand_Name) LIKE LOWER('%search_term%')` for case-insensitive partial matching\n",
      "3. **Fallback Strategy**: Brand_Name first → SKU_ID second → Show available brands if nothing found\n",
      "4. **Use proper column names**: `MRP` not `Price`, `SKU_ID` not `sku_id`\n",
      "5. **Boolean fields**: `is_active` uses 1 (true) and 0 (false)\n",
      "6. **Join relationships**: Use appropriate JOINs when crossing tables\n",
      "7. **Case sensitivity**: Always use LOWER() for text comparisons\n",
      "8. **Date ordering**: Use `ORDER BY created_at DESC` for recent orders\n",
      "\n",
      "## 🔍 **VALIDATION PATTERNS:**\n",
      "\n",
      "**CRITICAL: For any product price query, use this exact sequence:**\n",
      "\n",
      "```sql\n",
      "-- Step 1: Always check Brand_Name first (case-insensitive partial match)\n",
      "SELECT DISTINCT Brand_Name \n",
      "FROM tbl_product_master \n",
      "WHERE LOWER(Brand_Name) LIKE LOWER('%USER_INPUT%');\n",
      "\n",
      "-- Step 2: If brand found, get all products for that brand\n",
      "SELECT SKU_ID, MRP \n",
      "FROM tbl_product_master \n",
      "WHERE LOWER(Brand_Name) LIKE LOWER('%FOUND_BRAND%');\n",
      "\n",
      "-- Step 3: If no brand found, check SKU_ID\n",
      "SELECT SKU_ID, MRP \n",
      "FROM tbl_product_master \n",
      "WHERE LOWER(SKU_ID) LIKE LOWER('%USER_INPUT%');\n",
      "\n",
      "-- Step 4: If nothing found, show available brands for guidance\n",
      "SELECT DISTINCT Brand_Name \n",
      "FROM tbl_product_master \n",
      "ORDER BY Brand_Name;\n",
      "```\n",
      "\n",
      "**Examples:**\n",
      "- \"price of crocin\" → Search Brand_Name LIKE '%crocin%' first\n",
      "- \"cost of paracetamol\" → Search Brand_Name LIKE '%paracetamol%' first  \n",
      "- \"mrp of aspirin\" → Search Brand_Name LIKE '%aspirin%' first\n",
      "\n",
      "💡 **Tip**: Always use appropriate LIMIT clauses and ORDER BY for better performance and user experience.\n",
      "\u001b[0m\n",
      "Thought:\u001b[32;1m\u001b[1;3mI'm glad I could help you find the information you needed.\u001b[0m\n",
      "Observation: Invalid Format: Missing 'Action:' after 'Thought:\n",
      "Thought:\u001b[32;1m\u001b[1;3mQuestion: mrp of crocin\n",
      "Thought: I'm happy to help! However, I need more information to provide a meaningful answer. It seems like the question is asking for the molecular recipe of Crocin, which is a chemical compound. Since I'm a large language model, I don't have direct access to databases or chemical compounds. But I can try to help you find the information you're looking for.\n",
      "\n",
      "Action: sql_db_query\n",
      "Action Input: SELECT * FROM chemical_database WHERE chemical_name = 'Crocin'\u001b[0m\n",
      "Observation: \u001b[36;1m\u001b[1;3mError: (sqlite3.OperationalError) no such table: chemical_database\n",
      "[SQL: SELECT * FROM chemical_database WHERE chemical_name = 'Crocin']\n",
      "(Background on this error at: https://sqlalche.me/e/20/e3q8)\u001b[0m\n",
      "Thought:\u001b[32;1m\u001b[1;3mThought: It seems like the database table \"chemical_database\" doesn't exist. I'll try to list the available tables in the database first.\n",
      "\n",
      "Action: sql_db_list_tables\n",
      "Action Input: ''\u001b[0m\n",
      "Observation: \u001b[38;5;200m\u001b[1;3morder_items, orders, sub_d_order_items, sub_d_orders, tbl_distributor_details, tbl_price_margin, tbl_product_master, tbl_sales, tbl_scheme\u001b[0m\n",
      "Thought:\u001b[32;1m\u001b[1;3mQuestion: mrp of crocin\n",
      "Thought: I'm happy to help! However, I need more information to provide a meaningful answer. It seems like the question is asking for the molecular recipe of Crocin, which is a chemical compound. Since I'm a large language model, I don't have direct access to databases or chemical compounds. But I can try to help you find the information you're looking for.\n",
      "\n",
      "Action: sql_db_query\n",
      "Action Input: SELECT SKU_ID, MRP FROM tbl_product_master WHERE LOWER(Brand_Name) LIKE LOWER('%crocin%')\u001b[0m\n",
      "Observation: \u001b[36;1m\u001b[1;3m[(252.0, 80.0)]\u001b[0m\n",
      "Thought:\u001b[32;1m\u001b[1;3mFinal Answer: The MRP of Crocin is 252.0.\n",
      "\n",
      "Explanation: After analyzing the database schema, I found that the table `tbl_product_master` contains the information about products, including their MRP (Maximum Retail Price). I used the SQL query `SELECT SKU_ID, MRP FROM tbl_product_master WHERE LOWER(Brand_Name) LIKE LOWER('%crocin%')` to search for the MRP of Crocin. The result shows that the MRP of Crocin is 252.0.\u001b[0m\n",
      "\n",
      "\u001b[1m> Finished chain.\u001b[0m\n"
     ]
    }
   ],
   "source": [
    "response = agent.run(user_query)"
   ]
  },
  {
   "cell_type": "code",
   "execution_count": 14,
   "id": "b61384d4-039d-4d99-b1e9-64c65a112e33",
   "metadata": {},
   "outputs": [
    {
     "data": {
      "text/plain": [
       "\"The MRP of Crocin is 252.0.\\n\\nExplanation: After analyzing the database schema, I found that the table `tbl_product_master` contains the information about products, including their MRP (Maximum Retail Price). I used the SQL query `SELECT SKU_ID, MRP FROM tbl_product_master WHERE LOWER(Brand_Name) LIKE LOWER('%crocin%')` to search for the MRP of Crocin. The result shows that the MRP of Crocin is 252.0.\""
      ]
     },
     "execution_count": 14,
     "metadata": {},
     "output_type": "execute_result"
    }
   ],
   "source": [
    "response"
   ]
  },
  {
   "cell_type": "code",
   "execution_count": 15,
   "id": "f2e1e67c-daa7-4eb5-96ff-f7c05e8bb7f1",
   "metadata": {},
   "outputs": [
    {
     "name": "stdout",
     "output_type": "stream",
     "text": [
      "None\n"
     ]
    }
   ],
   "source": [
    "sql_match = re.search(r\"(SELECT\\s.+?;)\", response, re.IGNORECASE | re.DOTALL)\n",
    "print(sql_match)"
   ]
  },
  {
   "cell_type": "code",
   "execution_count": null,
   "id": "9f0d6fbe",
   "metadata": {},
   "outputs": [],
   "source": [
    "try:\n",
    "    sql_match = re.search(r\"(SELECT\\s.+?;)\", response, re.IGNORECASE | re.DOTALL)\n",
    "    if sql_match:\n",
    "        query = sql_match.group(1).strip()\n",
    "        result = db.run(query)\n",
    "\n",
    "        if isinstance(result, list):\n",
    "            df = pd.DataFrame(result)\n",
    "            print(\"Executed SQL Query:\")\n",
    "            print(query)\n",
    "\n",
    "            # Clean column names for display\n",
    "            df.columns = [col.replace(\"_\", \" \").title() for col in df.columns]\n",
    "\n",
    "            # Round numeric columns (like discount)\n",
    "            for col in df.select_dtypes(include=['float']):\n",
    "                df[col] = df[col].round(2)\n",
    "\n",
    "            # Format currency columns if MRP exists\n",
    "            if \"Mrp\" in df.columns:\n",
    "                df[\"Mrp\"] = df[\"Mrp\"].apply(lambda x: f\"₹{x:.2f}\")\n",
    "\n",
    "            # Display DataFrame\n",
    "            display(df)\n",
    "\n",
    "        else:\n",
    "            print(\"Query result:\")\n",
    "            print(result)\n",
    "    else:\n",
    "        print(\"No SQL query found in response.\")\n",
    "        print(response)\n",
    "except Exception as e:\n",
    "    print(\"Error:\", e)"
   ]
  },
  {
   "cell_type": "code",
   "execution_count": null,
   "id": "178738da",
   "metadata": {},
   "outputs": [],
   "source": []
  },
  {
   "cell_type": "code",
   "execution_count": null,
   "id": "892c3ebe",
   "metadata": {},
   "outputs": [],
   "source": []
  }
 ],
 "metadata": {
  "kernelspec": {
   "display_name": "Python (llm_gk)",
   "language": "python",
   "name": "llm_gk"
  },
  "language_info": {
   "codemirror_mode": {
    "name": "ipython",
    "version": 3
   },
   "file_extension": ".py",
   "mimetype": "text/x-python",
   "name": "python",
   "nbconvert_exporter": "python",
   "pygments_lexer": "ipython3",
   "version": "3.11.7"
  }
 },
 "nbformat": 4,
 "nbformat_minor": 5
}
