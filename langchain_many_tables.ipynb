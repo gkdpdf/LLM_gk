{
 "cells": [
  {
   "cell_type": "code",
   "execution_count": 1,
   "id": "e8eef784-4d52-4fd2-bed5-a78223e5356d",
   "metadata": {},
   "outputs": [],
   "source": [
    "from pathlib import Path\n",
    "from langchain.agents import initialize_agent, Tool\n",
    "from langchain.sql_database import SQLDatabase\n",
    "from langchain.agents.agent_types import AgentType\n",
    "from langchain.agents.agent_toolkits import SQLDatabaseToolkit\n",
    "from sqlalchemy import create_engine\n",
    "import sqlite3\n",
    "from langchain_groq import ChatGroq\n",
    "from dotenv import load_dotenv\n",
    "from table_relationships import describe_table_relationships\n",
    "from tbl_col_info import table_info_and_examples\n",
    "import os\n",
    "import pandas as pd\n",
    "import re\n",
    "import requests"
   ]
  },
  {
   "cell_type": "code",
   "execution_count": 2,
   "id": "0496789a-d075-4245-8b4b-d2fd18bab220",
   "metadata": {},
   "outputs": [],
   "source": [
    "# Load .env file and get GROQ API key\n",
    "load_dotenv()\n",
    "api_key = os.getenv(\"GROQ_API_KEY\")"
   ]
  },
  {
   "cell_type": "code",
   "execution_count": 3,
   "id": "2c477b0a-2a6b-4e00-8c45-c18f9d3f0646",
   "metadata": {},
   "outputs": [],
   "source": [
    "if not api_key:\n",
    "    print(\"GROQ_API_KEY not found in .env file.\")"
   ]
  },
  {
   "cell_type": "code",
   "execution_count": 4,
   "id": "2c6e136b-da5c-4b9a-90a8-08eaae06a798",
   "metadata": {},
   "outputs": [],
   "source": [
    "from langchain_openai import ChatOpenAI"
   ]
  },
  {
   "cell_type": "code",
   "execution_count": 5,
   "id": "4a3eb5ea-0a79-42ec-bba8-37d785cd2073",
   "metadata": {},
   "outputs": [],
   "source": [
    "llm = ChatOpenAI(\n",
    "    model=\"gpt-4o\",\n",
    "    temperature=0,\n",
    "    max_tokens=None,\n",
    "    timeout=None,\n",
    "    max_retries=2,\n",
    "    # api_key=\"...\",  # if you prefer to pass api key in directly instaed of using env vars\n",
    "    # base_url=\"...\",\n",
    "    # organization=\"...\",\n",
    "    # other params...\n",
    ")"
   ]
  },
  {
   "cell_type": "code",
   "execution_count": 6,
   "id": "aa0aa52e-79bd-4165-a34a-485d2264306c",
   "metadata": {},
   "outputs": [
    {
     "name": "stdout",
     "output_type": "stream",
     "text": [
      "📄 Tables Loaded: ['order_items', 'orders', 'sub_d_order_items', 'sub_d_orders', 'tbl_distributor_details', 'tbl_price_margin', 'tbl_product_master', 'tbl_sales', 'tbl_scheme']\n"
     ]
    },
    {
     "name": "stderr",
     "output_type": "stream",
     "text": [
      "C:\\Users\\engma\\AppData\\Local\\Temp\\ipykernel_32492\\1603749715.py:14: LangChainDeprecationWarning: The method `SQLDatabase.get_table_names` was deprecated in langchain-community 0.0.1 and will be removed in 1.0. Use :meth:`~get_usable_table_names` instead.\n",
      "  print(\"📄 Tables Loaded:\", db.get_table_names())\n"
     ]
    }
   ],
   "source": [
    "# Configure and return SQLite database connection\n",
    "def configure_db():\n",
    "    import glob\n",
    "    conn = sqlite3.connect(\":memory:\")\n",
    "    csv_folder = Path.cwd() / \"cooked_data_gk\"\n",
    "    for csv_file in glob.glob(str(csv_folder / \"*.csv\")):\n",
    "        table_name = Path(csv_file).stem.lower()\n",
    "        df = pd.read_csv(csv_file)\n",
    "        df.to_sql(table_name, conn, index=False, if_exists=\"replace\")\n",
    "    return SQLDatabase.from_uri(\"sqlite://\", engine_args={\"creator\": lambda: conn})\n",
    "\n",
    "# Connect to DB\n",
    "db = configure_db()\n",
    "print(\"📄 Tables Loaded:\", db.get_table_names())"
   ]
  },
  {
   "cell_type": "code",
   "execution_count": 9,
   "id": "ae5236c1-5e32-4007-8ac1-ab5410cc3afe",
   "metadata": {},
   "outputs": [],
   "source": [
    "from langchain_core.output_parsers import PydanticOutputParser\n",
    "from pydantic import BaseModel, Field\n",
    "from typing import Literal, List\n"
   ]
  },
  {
   "cell_type": "code",
   "execution_count": 11,
   "id": "b56df847-da58-403d-ad50-a81654de05c0",
   "metadata": {},
   "outputs": [],
   "source": [
    "AvailableTables = Literal['order_items',\n",
    "'orders',\n",
    "'sub_d_order_items',\n",
    "'sub_d_orders',\n",
    "'tbl_distributor_details',\n",
    "'tbl_price_margin',\n",
    "'tbl_product_master',\n",
    "'tbl_sales',\n",
    "'tbl_scheme']"
   ]
  },
  {
   "cell_type": "code",
   "execution_count": 12,
   "id": "478e18f9-2d19-428c-bde7-52dea15c58ea",
   "metadata": {},
   "outputs": [],
   "source": [
    "class OutputTables(BaseModel):\n",
    "    tables : List[AvailableTables] = Field(description=\"List of output tables required for sql query, each must be one of the available tables\")"
   ]
  },
  {
   "cell_type": "code",
   "execution_count": null,
   "id": "42223864-2a41-48f8-acc0-9e784571c225",
   "metadata": {},
   "outputs": [],
   "source": []
  }
 ],
 "metadata": {
  "kernelspec": {
   "display_name": "Python (llm_gk)",
   "language": "python",
   "name": "llm_gk"
  },
  "language_info": {
   "codemirror_mode": {
    "name": "ipython",
    "version": 3
   },
   "file_extension": ".py",
   "mimetype": "text/x-python",
   "name": "python",
   "nbconvert_exporter": "python",
   "pygments_lexer": "ipython3",
   "version": "3.11.7"
  }
 },
 "nbformat": 4,
 "nbformat_minor": 5
}
